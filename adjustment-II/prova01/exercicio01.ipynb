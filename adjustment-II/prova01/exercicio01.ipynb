{
 "cells": [
  {
   "cell_type": "markdown",
   "id": "bd6a381f",
   "metadata": {},
   "source": [
    "# MMQ"
   ]
  }
 ],
 "metadata": {
  "language_info": {
   "name": "python"
  }
 },
 "nbformat": 4,
 "nbformat_minor": 5
}
